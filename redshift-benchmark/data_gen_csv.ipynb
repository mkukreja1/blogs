{
 "cells": [
  {
   "cell_type": "code",
   "execution_count": 1,
   "metadata": {},
   "outputs": [],
   "source": [
    "import json\n",
    "from datetime import datetime\n",
    "import calendar\n",
    "import random\n",
    "import time\n",
    "import sys\n",
    "from pathlib import Path\n",
    "import random\n",
    "import time"
   ]
  },
  {
   "cell_type": "code",
   "execution_count": 2,
   "metadata": {},
   "outputs": [],
   "source": [
    "def put_to_stream(sale_date,car, country, price):\n",
    "    payload = str(sale_date)+','+str(car)+','+str(country)+','+str(price)\n",
    "\n",
    "    return payload"
   ]
  },
  {
   "cell_type": "code",
   "execution_count": 3,
   "metadata": {},
   "outputs": [
    {
     "name": "stdout",
     "output_type": "stream",
     "text": [
      "05/16/2012\n"
     ]
    }
   ],
   "source": [
    "def str_time_prop(start, end, time_format, prop):\n",
    "    \"\"\"Get a time at a proportion of a range of two formatted times.\n",
    "\n",
    "    start and end should be strings specifying times formatted in the\n",
    "    given format (strftime-style), giving an interval [start, end].\n",
    "    prop specifies how a proportion of the interval to be taken after\n",
    "    start.  The returned time will be in the specified format.\n",
    "    \"\"\"\n",
    "\n",
    "    stime = time.mktime(time.strptime(start, time_format))\n",
    "    etime = time.mktime(time.strptime(end, time_format))\n",
    "\n",
    "    ptime = stime + prop * (etime - stime)\n",
    "\n",
    "    return time.strftime(time_format, time.localtime(ptime))\n",
    "\n",
    "\n",
    "def random_date(start, end, prop):\n",
    "    return str_time_prop(start, end, '%m/%d/%Y', prop)\n",
    "    \n",
    "print(random_date(\"1/1/2010\", \"1/1/2021\", random.random()))"
   ]
  },
  {
   "cell_type": "code",
   "execution_count": 4,
   "metadata": {},
   "outputs": [],
   "source": [
    "path=\"csv/sales/sales5.csv\"\n",
    "f = open(path, \"a\")\n",
    "size=0\n",
    "\n",
    "payload=put_to_stream('sale_date','car_id', 'country_id','price')\n",
    "f.write(str(payload)+'\\n')\n",
    "while (size<2147483648):\n",
    "    price = round(random.uniform(10000.5, 100000.5),2)\n",
    "    sale_date = random_date(\"1/1/2010\", \"1/1/2021\", random.random())\n",
    "    cars = ['1','2','3', '4', '5', '6', '7', '8', '9', '10']\n",
    "    car = random.choice(cars)\n",
    "    countries = ['1','2','3', '4', '5']\n",
    "    country = random.choice(countries)\n",
    "    payload=put_to_stream(sale_date,car, country,price)\n",
    "    #print(payload)\n",
    "    f.write(str(payload)+'\\n')\n",
    "    size=int(Path(path).stat().st_size)\n",
    "    #print(size)\n",
    "\n",
    "f.close()"
   ]
  },
  {
   "cell_type": "code",
   "execution_count": 5,
   "metadata": {},
   "outputs": [],
   "source": [
    "path=\"csv/sales/sales6.csv\"\n",
    "f = open(path, \"a\")\n",
    "size=0\n",
    "\n",
    "payload=put_to_stream('sale_date','car_id', 'country_id','price')\n",
    "f.write(str(payload)+'\\n')\n",
    "while (size<2147483648):\n",
    "    price = round(random.uniform(10000.5, 100000.5),2)\n",
    "    sale_date = random_date(\"1/1/2010\", \"1/1/2021\", random.random())\n",
    "    cars = ['1','2','3', '4', '5', '6', '7', '8', '9', '10']\n",
    "    car = random.choice(cars)\n",
    "    countries = ['1','2','3', '4', '5']\n",
    "    country = random.choice(countries)\n",
    "    payload=put_to_stream(sale_date,car, country,price)\n",
    "    #print(payload)\n",
    "    f.write(str(payload)+'\\n')\n",
    "    size=int(Path(path).stat().st_size)\n",
    "    #print(size)\n",
    "\n",
    "f.close()"
   ]
  },
  {
   "cell_type": "code",
   "execution_count": 6,
   "metadata": {},
   "outputs": [],
   "source": [
    "path=\"csv/sales/sales7.csv\"\n",
    "f = open(path, \"a\")\n",
    "size=0\n",
    "\n",
    "payload=put_to_stream('sale_date','car_id', 'country_id','price')\n",
    "f.write(str(payload)+'\\n')\n",
    "while (size<2147483648):\n",
    "    price = round(random.uniform(10000.5, 100000.5),2)\n",
    "    sale_date = random_date(\"1/1/2010\", \"1/1/2021\", random.random())\n",
    "    cars = ['1','2','3', '4', '5', '6', '7', '8', '9', '10']\n",
    "    car = random.choice(cars)\n",
    "    countries = ['1','2','3', '4', '5']\n",
    "    country = random.choice(countries)\n",
    "    payload=put_to_stream(sale_date,car, country,price)\n",
    "    #print(payload)\n",
    "    f.write(str(payload)+'\\n')\n",
    "    size=int(Path(path).stat().st_size)\n",
    "    #print(size)\n",
    "\n",
    "f.close()"
   ]
  },
  {
   "cell_type": "code",
   "execution_count": 7,
   "metadata": {},
   "outputs": [],
   "source": [
    "path=\"csv/sales/sales8.csv\"\n",
    "f = open(path, \"a\")\n",
    "size=0\n",
    "\n",
    "payload=put_to_stream('sale_date','car_id', 'country_id','price')\n",
    "f.write(str(payload)+'\\n')\n",
    "while (size<2147483648):\n",
    "    price = round(random.uniform(10000.5, 100000.5),2)\n",
    "    sale_date = random_date(\"1/1/2010\", \"1/1/2021\", random.random())\n",
    "    cars = ['1','2','3', '4', '5', '6', '7', '8', '9', '10']\n",
    "    car = random.choice(cars)\n",
    "    countries = ['1','2','3', '4', '5']\n",
    "    country = random.choice(countries)\n",
    "    payload=put_to_stream(sale_date,car, country, price)\n",
    "    #print(payload)\n",
    "    f.write(str(payload)+'\\n')\n",
    "    size=int(Path(path).stat().st_size)\n",
    "    #print(size)\n",
    "\n",
    "f.close()"
   ]
  },
  {
   "cell_type": "code",
   "execution_count": 8,
   "metadata": {},
   "outputs": [],
   "source": [
    "path=\"csv/sales/sales9.csv\"\n",
    "f = open(path, \"a\")\n",
    "size=0\n",
    "\n",
    "payload=put_to_stream('sale_date','car_id', 'country_id','price')\n",
    "f.write(str(payload)+'\\n')\n",
    "while (size<2147483648):\n",
    "    price = round(random.uniform(10000.5, 100000.5),2)\n",
    "    sale_date = random_date(\"1/1/2010\", \"1/1/2021\", random.random())\n",
    "    cars = ['1','2','3', '4', '5', '6', '7', '8', '9', '10']\n",
    "    car = random.choice(cars)\n",
    "    countries = ['1','2','3', '4', '5']\n",
    "    country = random.choice(countries)\n",
    "    payload=put_to_stream(sale_date,car, country, price)\n",
    "    #print(payload)\n",
    "    f.write(str(payload)+'\\n')\n",
    "    size=int(Path(path).stat().st_size)\n",
    "    #print(size)\n",
    "\n",
    "f.close()"
   ]
  },
  {
   "cell_type": "code",
   "execution_count": 9,
   "metadata": {},
   "outputs": [],
   "source": [
    "path=\"csv/sales/sales10.csv\"\n",
    "f = open(path, \"a\")\n",
    "size=0\n",
    "\n",
    "payload=put_to_stream('sale_date','car_id', 'country_id','price')\n",
    "f.write(str(payload)+'\\n')\n",
    "while (size<2147483648):\n",
    "    price = round(random.uniform(10000.5, 100000.5),2)\n",
    "    sale_date = random_date(\"1/1/2010\", \"1/1/2021\", random.random())\n",
    "    cars = ['1','2','3', '4', '5', '6', '7', '8', '9', '10']\n",
    "    car = random.choice(cars)\n",
    "    countries = ['1','2','3', '4', '5']\n",
    "    country = random.choice(countries)\n",
    "    payload=put_to_stream(sale_date,car, country, price)\n",
    "    #print(payload)\n",
    "    f.write(str(payload)+'\\n')\n",
    "    size=int(Path(path).stat().st_size)\n",
    "    #print(size)\n",
    "\n",
    "f.close()"
   ]
  }
 ],
 "metadata": {
  "kernelspec": {
   "display_name": "Python 3",
   "language": "python",
   "name": "python3"
  },
  "language_info": {
   "codemirror_mode": {
    "name": "ipython",
    "version": 3
   },
   "file_extension": ".py",
   "mimetype": "text/x-python",
   "name": "python",
   "nbconvert_exporter": "python",
   "pygments_lexer": "ipython3",
   "version": "3.7.6"
  }
 },
 "nbformat": 4,
 "nbformat_minor": 4
}
