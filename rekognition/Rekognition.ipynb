{
 "cells": [
  {
   "cell_type": "code",
   "execution_count": null,
   "metadata": {},
   "outputs": [],
   "source": [
    "# ------------------------------------------------------------------------------------------------------------------\n",
    "# Amazon Rekognition is a service that makes it easy to add powerful visual analysis to your applications. \n",
    "# Rekognition Image lets you easily build powerful applications to search, verify, and organize millions of images. \n",
    "# Rekognition Video lets you extract motion-based context from stored or live stream videos and helps you analyze them.\n",
    "# Rekognition detects objects, scenes, and faces; extracts text; recognizes celebrities; and identifies inappropriate \n",
    "# content in images. It also allows you to search and compare faces. Rekognition Image is based on the same proven, \n",
    "# highly scalable, deep learning technology developed by Amazon’s computer vision scientists to analyze billions of \n",
    "# images daily for Prime Photos.\n",
    "# ------------------------------------------------------------------------------------------------------------------"
   ]
  },
  {
   "cell_type": "code",
   "execution_count": null,
   "metadata": {},
   "outputs": [],
   "source": [
    "# -------------------------------------------------------------------------\n",
    "# Import Python Libraries. Press run.\n",
    "# -------------------------------------------------------------------------\n",
    "\n",
    "from pyspark.context import SparkContext\n",
    "import boto3\n",
    "import requests\n",
    "import uuid"
   ]
  },
  {
   "cell_type": "code",
   "execution_count": null,
   "metadata": {},
   "outputs": [],
   "source": [
    "# -------------------------------------------------------------------------------------\n",
    "# Create the Spark Context and a boto3 client for accessing rekognition API's, Press run.\n",
    "# -------------------------------------------------------------------------------------\n",
    "\n",
    "sc = SparkContext.getOrCreate()\n",
    "client = boto3.client('rekognition', region_name='us-east-1')\n",
    "\n",
    "BUCKET='aws-analytics-course'"
   ]
  },
  {
   "cell_type": "code",
   "execution_count": null,
   "metadata": {},
   "outputs": [],
   "source": [
    "# --------------------------------------------------------------------------------------\n",
    "# Lets perform a simple Rekognition. I have placed an image of a dog on S3. The dog\n",
    "# is a Labrador Retriever. Let's see how Rekognition describes this image. Press run.\n",
    "# --------------------------------------------------------------------------------------\n",
    "\n",
    "photo='raw/images/dog.jpg'\n",
    "\n",
    "response = client.detect_labels(Image={'S3Object':{'Bucket':BUCKET,'Name':photo}}, MaxLabels=10)\n",
    "\n",
    "for label in response['Labels']:\n",
    "    print (\"Label: \" + label['Name'])\n",
    "    print (\"Confidence: \" + str(label['Confidence']))"
   ]
  },
  {
   "cell_type": "code",
   "execution_count": null,
   "metadata": {},
   "outputs": [],
   "source": [
    "# --------------------------------------------------------------------------------------\n",
    "# Note the labels attached to the image. A label is an object, scene, or concept found in \n",
    "# an image based on its contents.\n",
    "# Also note the confidence for each lable. A confidence score is a number between 0 and 100 \n",
    "# that indicates the probability that a given prediction is correct.\n",
    "# Highlight next cell and Press run.\n",
    "# --------------------------------------------------------------------------------------"
   ]
  },
  {
   "cell_type": "code",
   "execution_count": null,
   "metadata": {},
   "outputs": [],
   "source": [
    "# --------------------------------------------------------------------------------------\n",
    "# Lets perform another Rekognition. This time the image is of police officer standing in\n",
    "# outside the subway station under a street sign.\n",
    "# Highlight next cell and Press run.\n",
    "# --------------------------------------------------------------------------------------"
   ]
  },
  {
   "cell_type": "code",
   "execution_count": null,
   "metadata": {},
   "outputs": [],
   "source": [
    "photo='raw/images/police-sign.jpg'\n",
    "\n",
    "response = client.detect_labels(Image={'S3Object':{'Bucket':BUCKET,'Name':photo}}, MaxLabels=10)\n",
    "\n",
    "for label in response['Labels']:\n",
    "    print (\"Label: \" + label['Name'])\n",
    "    print (\"Confidence: \" + str(label['Confidence']))"
   ]
  },
  {
   "cell_type": "code",
   "execution_count": null,
   "metadata": {},
   "outputs": [],
   "source": [
    "# ----------------------------------------------------------------------------------------------------------\n",
    "# How cool it would be if the street sign could be read as text. Imagine the possibilities that\n",
    "# could open up. Text in Image is a capability of Amazon Rekognition that allows you to detect and recognize \n",
    "# text within an image, such as street names, captions, product names, and vehicular license plates.\n",
    "# Highlight next cell and Press run.\n",
    "# ----------------------------------------------------------------------------------------------------------"
   ]
  },
  {
   "cell_type": "code",
   "execution_count": null,
   "metadata": {},
   "outputs": [],
   "source": [
    "photo='raw/images/police-sign.jpg'\n",
    "\n",
    "response = client.detect_text(Image={'S3Object':{'Bucket':BUCKET,'Name':photo}})\n",
    "\n",
    "textDetections=response['TextDetections']\n",
    "print ('Detected text')\n",
    "for text in textDetections:\n",
    "    print ('Detected text:' + text['DetectedText'])\n",
    "    print ('Confidence: ' + \"{:.2f}\".format(text['Confidence']) + \"%\")\n",
    "    print ('Id: {}'.format(text['Id']))\n",
    "    if 'ParentId' in text:\n",
    "        print ('Parent Id: {}'.format(text['ParentId']))\n",
    "    print ('Type:' + text['Type'])\n",
    "    print"
   ]
  },
  {
   "cell_type": "code",
   "execution_count": null,
   "metadata": {},
   "outputs": [],
   "source": [
    "# ----------------------------------------------------------------------------------------------------------\n",
    "# Notice the Detected Text fields above. Rekognition correctly detected the text from the street sign as\n",
    "# 90 Saint.Eimhurst Av.. It also recognized another piece of text from a yellow parking lot sign.\n",
    "# Highlight next cell and Press run.\n",
    "# ----------------------------------------------------------------------------------------------------------"
   ]
  },
  {
   "cell_type": "code",
   "execution_count": null,
   "metadata": {},
   "outputs": [],
   "source": [
    "# ----------------------------------------------------------------------------------------------------------\n",
    "# Amazon Rekognition’s Celebrity Recognition is a deep learning based easy-to-use API for detection and \n",
    "# recognition of individuals who are famous, noteworthy, or prominent in their field. Let's see how Celebrity \n",
    "# Recognition works.\n",
    "# Highlight next cell and Press run.\n",
    "# ----------------------------------------------------------------------------------------------------------"
   ]
  },
  {
   "cell_type": "code",
   "execution_count": null,
   "metadata": {},
   "outputs": [],
   "source": [
    "response = requests.get('https://upload.wikimedia.org/wikipedia/commons/thumb/8/88/Stephen_Hawking_David_Fleming_Martin_Curley.png/640px-Stephen_Hawking_David_Fleming_Martin_Curley.png')\n",
    "response_content = response.content\n",
    "\n",
    "rekognition_response = client.recognize_celebrities(Image={'Bytes': response_content})\n",
    "\n",
    "print(rekognition_response)"
   ]
  },
  {
   "cell_type": "code",
   "execution_count": null,
   "metadata": {},
   "outputs": [],
   "source": [
    "# ----------------------------------------------------------------------------------------------------------\n",
    "# Notice the Name tag in the output above. The image was correctly identified as famous physicist Stephen Hawking.\n",
    "# Highlight next cell and Press run.\n",
    "# ----------------------------------------------------------------------------------------------------------"
   ]
  },
  {
   "cell_type": "code",
   "execution_count": null,
   "metadata": {},
   "outputs": [],
   "source": [
    "url='https://upload.wikimedia.org/wikipedia/commons/thumb/6/6e/Shah_Rukh_Khan_graces_the_launch_of_the_new_Santro.jpg/220px-Shah_Rukh_Khan_graces_the_launch_of_the_new_Santro.jpg'\n",
    "    \n",
    "response = requests.get(url)\n",
    "response_content = response.content\n",
    "\n",
    "rekognition_response = client.recognize_celebrities(Image={'Bytes': response_content})\n",
    "\n",
    "print(rekognition_response)"
   ]
  },
  {
   "cell_type": "code",
   "execution_count": null,
   "metadata": {},
   "outputs": [],
   "source": [
    "# ----------------------------------------------------------------------------------------------------------\n",
    "# This time the image was correctly identified as famous actor Shahrukh Khan.\n",
    "# Highlight next cell and Press run.\n",
    "# ----------------------------------------------------------------------------------------------------------"
   ]
  },
  {
   "cell_type": "code",
   "execution_count": null,
   "metadata": {},
   "outputs": [],
   "source": [
    "# ----------------------------------------------------------------------------------------------------------\n",
    "# Can Amazon Rekognition compare faces? It can. Face Comparison is the process of comparing one face to one \n",
    "# or more faces to measure similarity. I have uploaded 2 images of Tiger Woods for comparison. Let's see \n",
    "# how these faces compare.\n",
    "# Highlight next cell and Press run.\n",
    "# ----------------------------------------------------------------------------------------------------------"
   ]
  },
  {
   "cell_type": "code",
   "execution_count": null,
   "metadata": {},
   "outputs": [],
   "source": [
    "KEY_SOURCE = \"raw/images/tiger1.jpg\"\n",
    "KEY_TARGET = \"raw/images/tiger2.jpg\"\n",
    "\n",
    "def compare_faces(bucket, key, bucket_target, key_target, threshold=80, region=\"us-east-1\"):\n",
    "    rekognition = boto3.client(\"rekognition\", region)\n",
    "    response = client.compare_faces(\n",
    "    SourceImage={\n",
    "          \"S3Object\": {\n",
    "          \"Bucket\": bucket,\n",
    "          \"Name\": key,\n",
    "          }\n",
    "        },\n",
    "        TargetImage={\n",
    "           \"S3Object\": {\n",
    "           \"Bucket\": bucket_target,\n",
    "           \"Name\": key_target,\n",
    "           }\n",
    "        },\n",
    "        SimilarityThreshold=threshold,\n",
    "        )\n",
    "    return response['SourceImageFace'], response['FaceMatches']\n",
    "\n",
    "\n",
    "source_face, matches = compare_faces(BUCKET, KEY_SOURCE, BUCKET, KEY_TARGET)\n",
    "\n",
    "# the main source face\n",
    "print \"Source Face ({Confidence}%)\".format(**source_face)\n",
    "#print \"matches: \"+str(matches)\n",
    "\n",
    "# one match for each target face\n",
    "for match in matches:\n",
    "    print \"Target Face ({Confidence}%)\".format(**match['Face'])\n",
    "    print \"  Similarity : {}%\".format(match['Similarity'])\n"
   ]
  },
  {
   "cell_type": "code",
   "execution_count": null,
   "metadata": {},
   "outputs": [],
   "source": [
    "# ----------------------------------------------------------------------------------------------------------\n",
    "# Amazon Rekognition compared the faces and came to the conclusion that the two images are a perfect match \n",
    "# of Tiger Woods.\n",
    "# Highlight next cell and Press run.\n",
    "# ----------------------------------------------------------------------------------------------------------"
   ]
  },
  {
   "cell_type": "code",
   "execution_count": null,
   "metadata": {},
   "outputs": [],
   "source": [
    "# ----------------------------------------------------------------------------------------------------------\n",
    "# This time lets compare Tiger Woods to a Tiger Woods look alike.\n",
    "# I have uploaded the image of Tiger Woods and his look alike for comparison. Let's see \n",
    "# how these faces compare.\n",
    "# Highlight next cell and Press run.\n",
    "# ----------------------------------------------------------------------------------------------------------"
   ]
  },
  {
   "cell_type": "code",
   "execution_count": null,
   "metadata": {},
   "outputs": [],
   "source": [
    "KEY_SOURCE = \"raw/images/tiger1.jpg\"\n",
    "KEY_TARGET = \"raw/images/tiger_not.jpg\"\n",
    "\n",
    "def compare_faces(bucket, key, bucket_target, key_target, threshold=80, region=\"eu-west-1\"):\n",
    "    rekognition = boto3.client(\"rekognition\", region)\n",
    "    response = client.compare_faces(\n",
    "    SourceImage={\n",
    "          \"S3Object\": {\n",
    "          \"Bucket\": bucket,\n",
    "          \"Name\": key,\n",
    "          }\n",
    "        },\n",
    "        TargetImage={\n",
    "           \"S3Object\": {\n",
    "           \"Bucket\": bucket_target,\n",
    "           \"Name\": key_target,\n",
    "           }\n",
    "        },\n",
    "        SimilarityThreshold=threshold,\n",
    "        )\n",
    "    return response['SourceImageFace'], response['FaceMatches']\n",
    "\n",
    "\n",
    "source_face, matches = compare_faces(BUCKET, KEY_SOURCE, BUCKET, KEY_TARGET)\n",
    "\n",
    "# the main source face\n",
    "#print \"Source Face ({Confidence}%)\".format(**source_face)\n",
    "if not matches:\n",
    "    print(\"Not a Match\")\n",
    "\n",
    "\n",
    "# one match for each target face\n",
    "for match in matches:\n",
    "    print \"Target Face ({Confidence}%)\".format(**match['Face'])\n",
    "    print \"  Similarity : {}%\".format(match['Similarity'])\n"
   ]
  },
  {
   "cell_type": "code",
   "execution_count": null,
   "metadata": {},
   "outputs": [],
   "source": [
    "# ----------------------------------------------------------------------------------------------------------\n",
    "# It's not a match!!\n",
    "# Highlight next cell and Press run.\n",
    "# ----------------------------------------------------------------------------------------------------------"
   ]
  },
  {
   "cell_type": "code",
   "execution_count": null,
   "metadata": {},
   "outputs": [],
   "source": [
    "COLLECTION = \"rek-collection-1\"\n",
    "client.create_collection(CollectionId=COLLECTION)\n",
    "client.list_collections()"
   ]
  },
  {
   "cell_type": "code",
   "execution_count": null,
   "metadata": {},
   "outputs": [],
   "source": [
    "# ----------------------------------------------------------------------------------------------------------\n",
    "# Amazon Rekognition can store information about detected faces in server-side containers known as collections. \n",
    "# You can use the facial information that's stored in a collection to search for known faces in images, stored \n",
    "# videos, and streaming videos. Let' store the image of Tiger Woods in a new collection.\n",
    "# Highlight next cell and Press run.\n",
    "# ----------------------------------------------------------------------------------------------------------"
   ]
  },
  {
   "cell_type": "code",
   "execution_count": null,
   "metadata": {},
   "outputs": [],
   "source": [
    "KEY = \"raw/images/tiger1.jpg\"\n",
    "IMAGE_ID = uuid.uuid4().hex  \n",
    "\n",
    "# Note: you have to create the collection first!\n",
    "#client.create_collection(CollectionId=COLLECTION)\n",
    "\n",
    "def index_faces(bucket, key, collection_id, image_id=None, attributes=(), region=\"us-east-1\"):\n",
    "\n",
    "    response = client.index_faces(\n",
    "                                 Image={\n",
    "                                 \"S3Object\": {\n",
    "                                 \"Bucket\": bucket,\n",
    "                                 \"Name\": key,\n",
    "                                 }\n",
    "                                 },\n",
    "                                 CollectionId=collection_id,\n",
    "                                 ExternalImageId=image_id,\n",
    "                                     DetectionAttributes=attributes,\n",
    "                                 )\n",
    "    return response['FaceRecords']\n",
    "\n",
    "\n",
    "for record in index_faces(BUCKET, KEY, COLLECTION, IMAGE_ID):\n",
    "    face = record['Face']\n",
    "    # details = record['FaceDetail']\n",
    "    print \"Face ({}%)\".format(face['Confidence'])\n",
    "    print \"  FaceId: {}\".format(face['FaceId'])\n",
    "    print \"  ImageId: {}\".format(face['ImageId'])\n"
   ]
  },
  {
   "cell_type": "code",
   "execution_count": null,
   "metadata": {},
   "outputs": [],
   "source": [
    "# ----------------------------------------------------------------------------------------------------------\n",
    "# Now let's search for Tiger Woods in our collections database using a completely new picture.\n",
    "# Highlight next cell and Press run.\n",
    "# ----------------------------------------------------------------------------------------------------------"
   ]
  },
  {
   "cell_type": "code",
   "execution_count": null,
   "metadata": {},
   "outputs": [],
   "source": [
    "KEY = \"raw/images/search_tiger.jpg\"\n",
    "\n",
    "def search_faces_by_image(bucket, key, collection_id, threshold=80, region=\"eu-west-1\"):\n",
    "    response = client.search_faces_by_image(\n",
    "                         Image={\n",
    "                         \"S3Object\": {\n",
    "                         \"Bucket\": bucket,\n",
    "                         \"Name\": key,\n",
    "                         }\n",
    "                         },\n",
    "                         CollectionId=collection_id,\n",
    "                         FaceMatchThreshold=threshold,\n",
    "                         )\n",
    "    return response['FaceMatches']\n",
    "\n",
    "for record in search_faces_by_image(BUCKET, KEY, COLLECTION):\n",
    "        face = record['Face']\n",
    "        print \"Matched Face ({}%)\".format(record['Similarity'])\n",
    "        print \"  FaceId : {}\".format(face['FaceId'])\n",
    "        print \"  ImageId : {}\".format(face['ExternalImageId'])"
   ]
  },
  {
   "cell_type": "code",
   "execution_count": null,
   "metadata": {},
   "outputs": [],
   "source": [
    "# ----------------------------------------------------------------------------------------------------------\n",
    "# Looks like the picture matched. Comparing faces within collections goes a long way in Master Data \n",
    "# Management  initiatives.\n",
    "# Highlight next cell and Press run.\n",
    "# ----------------------------------------------------------------------------------------------------------"
   ]
  },
  {
   "cell_type": "code",
   "execution_count": null,
   "metadata": {},
   "outputs": [],
   "source": [
    "# ----------------------------------------------------------------------------------------------------------\n",
    "# Now let's search for Will Smith in our collections database.\n",
    "# Highlight next cell and Press run.\n",
    "# ----------------------------------------------------------------------------------------------------------"
   ]
  },
  {
   "cell_type": "code",
   "execution_count": null,
   "metadata": {},
   "outputs": [],
   "source": [
    "KEY = \"raw/images/will.jpg\"\n",
    "\n",
    "def search_faces_by_image(bucket, key, collection_id, threshold=80, region=\"eu-west-1\"):\n",
    "    response = client.search_faces_by_image(\n",
    "                 Image={\n",
    "                      \"S3Object\": {\n",
    "                      \"Bucket\": bucket,\n",
    "                      \"Name\": key,\n",
    "                 }\n",
    "                 },\n",
    "                 CollectionId=collection_id,\n",
    "                 FaceMatchThreshold=threshold,\n",
    "                 )\n",
    "    return response['FaceMatches']\n",
    "\n",
    "for record in search_faces_by_image(BUCKET, KEY, COLLECTION):\n",
    "        face = record['Face']\n",
    "        print \"Matched Face ({}%)\".format(record['Similarity'])\n",
    "        print \"  FaceId : {}\".format(face['FaceId'])\n",
    "        print \"  ImageId : {}\".format(face['ExternalImageId'])\n",
    "else:\n",
    "    print('Image not in our database')"
   ]
  },
  {
   "cell_type": "code",
   "execution_count": null,
   "metadata": {},
   "outputs": [],
   "source": [
    "# ----------------------------------------------------------------------------------------------------------\n",
    "# Will Smith does not exist in our collections database.\n",
    "# Highlight next cell and Press run.\n",
    "# ----------------------------------------------------------------------------------------------------------"
   ]
  },
  {
   "cell_type": "code",
   "execution_count": null,
   "metadata": {},
   "outputs": [],
   "source": [
    "client.delete_collection(CollectionId=COLLECTION)\n",
    "client.list_collections()"
   ]
  },
  {
   "cell_type": "code",
   "execution_count": null,
   "metadata": {},
   "outputs": [],
   "source": [
    "# ----------------------------------------------------------------------------------------------------------\n",
    "# How can object detection within an image be useful? Imagine a security camera captured a man with a gun in a\n",
    "# busy mall. Image labels can be read by Data Science/Monitoring Algorithms and proper authorities could be \n",
    "# alerted before a mishap happens. \n",
    "# Highlight next cell and Press run.\n",
    "# ----------------------------------------------------------------------------------------------------------"
   ]
  },
  {
   "cell_type": "code",
   "execution_count": null,
   "metadata": {},
   "outputs": [],
   "source": [
    "photo='raw/images/pistol.jpg'\n",
    "\n",
    "response = client.detect_labels(Image={'S3Object':{'Bucket':BUCKET,'Name':photo}}, MaxLabels=10)\n",
    "\n",
    "for label in response['Labels']:\n",
    "    print (\"Label: \" + label['Name'])\n",
    "    print (\"Confidence: \" + str(label['Confidence']))"
   ]
  },
  {
   "cell_type": "code",
   "execution_count": null,
   "metadata": {},
   "outputs": [],
   "source": [
    "# ----------------------------------------------------------------------------------------------------------\n",
    "# The possibilities are endless. Everyday many large scale organizations are finding new ways to use this \n",
    "# technology. I hope you found this information both informative and useful. Amazon \n",
    "# Rekognition is covered in more detail in the AWS Data Analytics Speciality training. \n",
    "# ----------------------------------------------------------------------------------------------------------"
   ]
  }
 ],
 "metadata": {
  "kernelspec": {
   "display_name": "Sparkmagic (PySpark)",
   "language": "",
   "name": "pysparkkernel"
  },
  "language_info": {
   "codemirror_mode": {
    "name": "python",
    "version": 3
   },
   "mimetype": "text/x-python",
   "name": "pyspark",
   "pygments_lexer": "python3"
  }
 },
 "nbformat": 4,
 "nbformat_minor": 2
}
